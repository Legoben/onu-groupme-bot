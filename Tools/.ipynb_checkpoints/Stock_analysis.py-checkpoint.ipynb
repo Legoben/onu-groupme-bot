{
 "cells": [
  {
   "cell_type": "code",
   "execution_count": 23,
   "metadata": {
    "collapsed": true
   },
   "outputs": [],
   "source": [
    "import locale\n",
    "from datetime import *\n",
    "import quandl\n",
    "import matplotlib.pyplot as plt\n",
    "import pandas as pd\n",
    "\n",
    "locale.setlocale(locale.LC_ALL, ('en_US', 'UTF-8')) # Set locale to en_US\n",
    "quandl.ApiConfig.api_key = \"V5uEXA4L1zfc9Q6Dp9Lz\" # Set API key"
   ]
  },
  {
   "cell_type": "code",
   "execution_count": 24,
   "metadata": {
    "collapsed": true
   },
   "outputs": [],
   "source": [
    "def get_stock_info(ticker, dataset, suffix, start_date='', end_date='', returns=''):\n",
    "    return quandl.get(dataset + '/' + ticker.upper() + suffix, start_date=start_date, end_date=end_date, returns=returns)"
   ]
  },
  {
   "cell_type": "code",
   "execution_count": 29,
   "metadata": {
    "collapsed": true
   },
   "outputs": [],
   "source": [
    "#Get Ratings\n",
    "# tickers = []\n",
    "# for line in open('NASDAQ.txt'):\n",
    "#     ticker = line[0:3]\n",
    "#     ticker = ticker.rstrip(' ')\n",
    "#     tickers.append(ticker)\n",
    "#     try:\n",
    "#         data = get_stock_info(ticker, dataset='CBARH', suffix='', returns=pandas)\n",
    "#     except quandl.errors.quandl_error.NotFoundError:\n",
    "#         continue\n",
    "#     rating = data.iloc[0]['Average Rating']\n",
    "#     ratings.append(rating)\n",
    "# ratings_df = pd.DataFrame([tickers, ratings], columns=list('AB'))\n",
    "# print(ratings_df)"
   ]
  },
  {
   "cell_type": "markdown",
   "metadata": {},
   "source": [
    "1. Get revenue data and rank size of company\n",
    "2. Get earnings data and see if matches size\n",
    "3. Get sales data and  see if matches size "
   ]
  },
  {
   "cell_type": "code",
   "execution_count": 37,
   "metadata": {},
   "outputs": [],
   "source": [
    "#Get revenue data and rank size of company\n",
    "data = get_stock_info('AAPL', dataset='SF1', suffix='_EPS_MRQ')\n"
   ]
  },
  {
   "cell_type": "code",
   "execution_count": 40,
   "metadata": {},
   "outputs": [
    {
     "ename": "ImportError",
     "evalue": "No module named ipython",
     "output_type": "error",
     "traceback": [
      "\u001b[0;31m---------------------------------------------------------------------------\u001b[0m",
      "\u001b[0;31mImportError\u001b[0m                               Traceback (most recent call last)",
      "\u001b[0;32m<ipython-input-40-fa1e277b46e7>\u001b[0m in \u001b[0;36m<module>\u001b[0;34m()\u001b[0m\n\u001b[1;32m      2\u001b[0m \u001b[0mtickers\u001b[0m \u001b[0;34m=\u001b[0m \u001b[0;34m[\u001b[0m\u001b[0;34m]\u001b[0m\u001b[0;34m\u001b[0m\u001b[0m\n\u001b[1;32m      3\u001b[0m \u001b[0mearnings\u001b[0m \u001b[0;34m=\u001b[0m \u001b[0;34m[\u001b[0m\u001b[0;34m]\u001b[0m\u001b[0;34m\u001b[0m\u001b[0m\n\u001b[0;32m----> 4\u001b[0;31m \u001b[0;32mfrom\u001b[0m \u001b[0mipython\u001b[0m \u001b[0;32mimport\u001b[0m \u001b[0membed\u001b[0m\u001b[0;34m\u001b[0m\u001b[0m\n\u001b[0m\u001b[1;32m      5\u001b[0m \u001b[0;32mfor\u001b[0m \u001b[0mline\u001b[0m \u001b[0;32min\u001b[0m \u001b[0mopen\u001b[0m\u001b[0;34m(\u001b[0m\u001b[0;34m'NASDAQ.txt'\u001b[0m\u001b[0;34m)\u001b[0m\u001b[0;34m:\u001b[0m\u001b[0;34m\u001b[0m\u001b[0m\n\u001b[1;32m      6\u001b[0m     \u001b[0mticker\u001b[0m \u001b[0;34m=\u001b[0m \u001b[0mline\u001b[0m\u001b[0;34m[\u001b[0m\u001b[0;36m0\u001b[0m\u001b[0;34m:\u001b[0m\u001b[0;36m3\u001b[0m\u001b[0;34m]\u001b[0m\u001b[0;34m\u001b[0m\u001b[0m\n",
      "\u001b[0;31mImportError\u001b[0m: No module named ipython"
     ]
    }
   ],
   "source": [
    "# Get Earnings\n",
    "tickers = []\n",
    "earnings = []\n",
    "from ipython import embed\n",
    "for line in open('NASDAQ.txt'):\n",
    "    ticker = line[0:3]\n",
    "    print(ticker)\n",
    "    ticker = ticker.rstrip(' ')\n",
    "    tickers.append(ticker)\n",
    "    try:\n",
    "        data = get_stock_info(ticker, dataset='SF1', suffix='_EPS_MRQ')\n",
    "        embed()\n",
    "    except quandl.errors.quandl_error.NotFoundError or quandl.errors.quandl_error.ForbiddenError:\n",
    "        continue\n",
    "    datum = data['Value'].iloc[-1]\n",
    "    earnings.append(datum)"
   ]
  },
  {
   "cell_type": "code",
   "execution_count": null,
   "metadata": {
    "collapsed": true
   },
   "outputs": [],
   "source": [
    "    \n",
    "for ticker in tickers:\n",
    "    try:\n",
    "        data = get_stock_info(ticker, dataset='SF1', suffix='_EPS_MRQ')\n",
    "        earnings\n",
    "    except quandl.errors.quandl_error.NotFoundError:\n",
    "        "
   ]
  }
 ],
 "metadata": {
  "kernelspec": {
   "display_name": "Python 2",
   "language": "python",
   "name": "python2"
  },
  "language_info": {
   "codemirror_mode": {
    "name": "ipython",
    "version": 2
   },
   "file_extension": ".py",
   "mimetype": "text/x-python",
   "name": "python",
   "nbconvert_exporter": "python",
   "pygments_lexer": "ipython2",
   "version": "2.7.13"
  }
 },
 "nbformat": 4,
 "nbformat_minor": 2
}
